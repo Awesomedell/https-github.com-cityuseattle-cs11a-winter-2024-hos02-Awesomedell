def binary_search(lst, item):
    low, high = 0, len(lst) - 1

    while low <= high:
        mid = (low + high) // 2
        guess = lst[mid]

        if guess == item:
            return mid
        elif guess > item:
            high = mid - 1
        else:
            low = mid + 1

    return None

# Example usage:
my_list = [1, 3, 5, 7, 9]
target_value = 3

# Calling the function and printing the result
print(binary_search(my_list, target_value))  # => 1
print(binary_search(my_list, -1))  # => None
